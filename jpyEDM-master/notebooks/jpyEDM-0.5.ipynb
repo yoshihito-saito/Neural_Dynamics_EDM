{
 "cells": [
  {
   "cell_type": "code",
   "execution_count": 4,
   "id": "contemporary-rugby",
   "metadata": {
    "scrolled": false
   },
   "outputs": [
    {
     "data": {
      "application/vnd.jupyter.widget-view+json": {
       "model_id": "42d83ff01b174d89b2d11319144958b3",
       "version_major": 2,
       "version_minor": 0
      },
      "text/plain": [
       "VBox(children=(HBox(children=(VBox(children=(Dropdown(description='method', index=7, options=('Simplex', 'SMap…"
      ]
     },
     "metadata": {},
     "output_type": "display_data"
    }
   ],
   "source": [
    "%matplotlib notebook\n",
    "from jpyEDM_init import *"
   ]
  },
  {
   "cell_type": "code",
   "execution_count": null,
   "id": "civic-communications",
   "metadata": {},
   "outputs": [],
   "source": [
    "# To access the EDM return object, reference EDM.dataFrameOut\n",
    "# EDM.dataFrameOut['predictions']"
   ]
  }
 ],
 "metadata": {
  "kernelspec": {
   "display_name": "Python 3 (ipykernel)",
   "language": "python",
   "name": "python3"
  },
  "language_info": {
   "codemirror_mode": {
    "name": "ipython",
    "version": 3
   },
   "file_extension": ".py",
   "mimetype": "text/x-python",
   "name": "python",
   "nbconvert_exporter": "python",
   "pygments_lexer": "ipython3",
   "version": "3.9.18"
  }
 },
 "nbformat": 4,
 "nbformat_minor": 5
}
